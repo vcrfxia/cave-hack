{
 "cells": [
  {
   "cell_type": "code",
   "execution_count": 161,
   "metadata": {
    "collapsed": true
   },
   "outputs": [],
   "source": [
    "import pandas as pd\n",
    "cereal_nodes = pd.read_csv('computer_nodes.txt', encoding='utf-16', delimiter='\\t')"
   ]
  },
  {
   "cell_type": "code",
   "execution_count": 162,
   "metadata": {
    "collapsed": false
   },
   "outputs": [],
   "source": [
    "cereal_edges = pd.read_csv('computer_edges.txt', encoding='utf-16', delimiter='\\t')\n",
    "import networkx as nx"
   ]
  },
  {
   "cell_type": "code",
   "execution_count": 163,
   "metadata": {
    "collapsed": true
   },
   "outputs": [],
   "source": [
    "G = nx.DiGraph()"
   ]
  },
  {
   "cell_type": "code",
   "execution_count": null,
   "metadata": {
    "collapsed": false
   },
   "outputs": [],
   "source": []
  },
  {
   "cell_type": "code",
   "execution_count": 167,
   "metadata": {
    "collapsed": false
   },
   "outputs": [],
   "source": [
    "costs = dict(zip(list(cereal_nodes['Stage Name']), list(cereal_nodes.apply(lambda x: x.stageTime, axis=1))))"
   ]
  },
  {
   "cell_type": "code",
   "execution_count": 4,
   "metadata": {
    "collapsed": false
   },
   "outputs": [],
   "source": [
    "remove_nodes = list(cereal_edges[cereal_edges['destinationStage'].str.contains('Retail')]['sourceStage'])"
   ]
  },
  {
   "cell_type": "code",
   "execution_count": null,
   "metadata": {
    "collapsed": false,
    "scrolled": true
   },
   "outputs": [],
   "source": []
  },
  {
   "cell_type": "code",
   "execution_count": 170,
   "metadata": {
    "collapsed": false
   },
   "outputs": [],
   "source": [
    "for i, row in cereal_edges.iterrows():\n",
    "    G.add_edge(row.sourceStage, row.destinationStage)"
   ]
  },
  {
   "cell_type": "code",
   "execution_count": null,
   "metadata": {
    "collapsed": false
   },
   "outputs": [],
   "source": []
  },
  {
   "cell_type": "code",
   "execution_count": 171,
   "metadata": {
    "collapsed": false
   },
   "outputs": [],
   "source": [
    "demands = {}\n",
    "def compute_demand(node):\n",
    "    if node in demands:\n",
    "        return demands[node]\n",
    "    demanders = G.out_edges(node)\n",
    "    if len(demanders) == 0:\n",
    "        d = list(cereal_nodes[cereal_nodes['Stage Name'] == node].avgDemand)[0]\n",
    "    else:\n",
    "        d = sum(map(lambda x: compute_demand(x[1]), demanders))\n",
    "    demands[node] = d\n",
    "    return d\n",
    "for x in G.nodes():\n",
    "    compute_demand(x)"
   ]
  },
  {
   "cell_type": "code",
   "execution_count": 7,
   "metadata": {
    "collapsed": false
   },
   "outputs": [],
   "source": [
    "import math\n",
    "std_demands = {}\n",
    "def compute_std_demand(node):\n",
    "    if node in std_demands:\n",
    "        return std_demands[node]\n",
    "    demanders = G.out_edges(node)\n",
    "    if len(demanders) == 0:\n",
    "        d = list(cereal_nodes[cereal_nodes['Stage Name'] == node].stdDevDemand)[0]\n",
    "    else:\n",
    "        d = math.sqrt(sum(map(lambda x: compute_std_demand(x[1]) ** 2, demanders)))\n",
    "    std_demands[node] = d\n",
    "    return d\n",
    "for x in G.nodes():\n",
    "    compute_std_demand(x)"
   ]
  },
  {
   "cell_type": "code",
   "execution_count": 172,
   "metadata": {
    "collapsed": false
   },
   "outputs": [],
   "source": [
    "edge_widths = {}\n",
    "for e in G.edges():\n",
    "    edge_widths[e] = demands[e[1]]"
   ]
  },
  {
   "cell_type": "code",
   "execution_count": 173,
   "metadata": {
    "collapsed": false
   },
   "outputs": [],
   "source": [
    "nx.set_edge_attributes(G, 'value', edge_widths)"
   ]
  },
  {
   "cell_type": "code",
   "execution_count": 10,
   "metadata": {
    "collapsed": true
   },
   "outputs": [],
   "source": [
    "for x in G.nodes():\n",
    "    if x in remove_nodes or 'Retail' in x:\n",
    "        G.remove_node(x)"
   ]
  },
  {
   "cell_type": "code",
   "execution_count": 11,
   "metadata": {
    "collapsed": true
   },
   "outputs": [],
   "source": [
    "def process_cost(cost_str):\n",
    "    return float(cost_str[1:])"
   ]
  },
  {
   "cell_type": "code",
   "execution_count": 174,
   "metadata": {
    "collapsed": false
   },
   "outputs": [],
   "source": [
    "from collections import defaultdict\n",
    "\n",
    "edge_dictionary = defaultdict(dict)\n",
    "for i, row in cereal_edges.iterrows():\n",
    "    edge_dictionary[row.sourceStage][row.destinationStage] = G[row.sourceStage][row.destinationStage]['value']"
   ]
  },
  {
   "cell_type": "code",
   "execution_count": 63,
   "metadata": {
    "collapsed": false
   },
   "outputs": [],
   "source": [
    "\n",
    "cereal_nodes['cost'] = cereal_nodes.apply(lambda x: process_cost(x.stageCost), axis=1)\n",
    "thresholds = [0, 0.5, 1, 2, 5, 10, 20, 50, 5000]\n",
    "H = nx.DiGraph()\n",
    "manuf = list(filter(lambda x: 'Manuf' in x, G.nodes()))\n",
    "edge_values = {}\n",
    "part_tables = []\n",
    "manuf_tables = []\n",
    "for i in range(len(thresholds) - 1):\n",
    "    subtable = cereal_nodes[(cereal_nodes.cost > thresholds[i]) & (cereal_nodes.cost <= thresholds[i + 1])]\n",
    "    part_tables.append(subtable[subtable.stageClassification == 'Part'])\n",
    "    manuf_tables.append(subtable[subtable.stageClassification == 'Manuf'])\n",
    "for a, p in enumerate(part_tables):\n",
    "    for b, m in enumerate(manuf_tables):\n",
    "        edge_sum = 0\n",
    "        for i, part in p.iterrows():\n",
    "            for j, manuf in m.iterrows():\n",
    "                if G.has_edge(part['Stage Name'], manuf['Stage Name']):\n",
    "                    edge_sum += G[part['Stage Name']][manuf['Stage Name']]['value']\n",
    "        if edge_sum != 0:\n",
    "            H.add_edge('Part_' + str(thresholds[a]), 'Manuf_' + str(thresholds[b]))\n",
    "            H['Part_' + str(thresholds[a])]['Manuf_' + str(thresholds[b])]['value'] = edge_sum\n",
    "    \n"
   ]
  },
  {
   "cell_type": "code",
   "execution_count": 50,
   "metadata": {
    "collapsed": false
   },
   "outputs": [
    {
     "name": "stdout",
     "output_type": "stream",
     "text": [
      "DescribeResult(nobs=87, minmax=(2.4199999999999999, 98.730000000000004), mean=39.535057471264366, variance=535.10312761293767, skewness=0.8366768316693697, kurtosis=-0.17277104495444995)\n"
     ]
    }
   ],
   "source": [
    "costs = cereal_nodes[cereal_nodes['Stage Name'].str.contains('Manuf')].apply(lambda x: process_cost(x.stageCost), axis=1)\n",
    "from scipy.stats import describe\n",
    "print(describe(costs))"
   ]
  },
  {
   "cell_type": "code",
   "execution_count": 177,
   "metadata": {
    "collapsed": true
   },
   "outputs": [],
   "source": [
    "forward_nodes = dict(zip(G.nodes(), map(lambda node: list(map(lambda x: x[1], G.out_edges(node))), G.nodes())))"
   ]
  },
  {
   "cell_type": "code",
   "execution_count": 178,
   "metadata": {
    "collapsed": false,
    "scrolled": true
   },
   "outputs": [],
   "source": [
    "backward_nodes = dict(zip(G.nodes(), map(lambda node: list(map(lambda x: x[0], G.in_edges(node))), G.nodes())))"
   ]
  },
  {
   "cell_type": "code",
   "execution_count": 176,
   "metadata": {
    "collapsed": false
   },
   "outputs": [],
   "source": [
    "import json\n",
    "with open('computer_forward_nodes.json', 'w') as fout:\n",
    "    fout.write(json.dumps(dict(edge_forward_nodes), indent=2))"
   ]
  },
  {
   "cell_type": "code",
   "execution_count": 67,
   "metadata": {
    "collapsed": false
   },
   "outputs": [
    {
     "name": "stdout",
     "output_type": "stream",
     "text": [
      "{'directed': True, 'graph': {}, 'nodes': [{'id': 'Part_0.5'}, {'id': 'Manuf_5'}, {'id': 'Part_20'}, {'id': 'Manuf_2'}, {'id': 'Part_50'}, {'id': 'Part_10'}, {'id': 'Manuf_50'}, {'id': 'Part_0'}, {'id': 'Part_1'}, {'id': 'Part_2'}, {'id': 'Manuf_10'}, {'id': 'Part_5'}, {'id': 'Manuf_20'}], 'links': [{'source': 0, 'target': 1, 'value': 275.21000000000009}, {'source': 0, 'target': 10, 'value': 3312.7300000000023}, {'source': 0, 'target': 3, 'value': 285.93999999999977}, {'source': 0, 'target': 12, 'value': 17434.560000000056}, {'source': 0, 'target': 6, 'value': 6367.2300000000041}, {'source': 2, 'target': 1, 'value': 9.4900000000000002}, {'source': 2, 'target': 10, 'value': 95.139999999999986}, {'source': 2, 'target': 3, 'value': 9.379999999999999}, {'source': 2, 'target': 12, 'value': 659.13999999999999}, {'source': 2, 'target': 6, 'value': 223.09}, {'source': 4, 'target': 12, 'value': 116.56000000000002}, {'source': 5, 'target': 1, 'value': 9.4900000000000002}, {'source': 5, 'target': 10, 'value': 102.22}, {'source': 5, 'target': 3, 'value': 9.379999999999999}, {'source': 5, 'target': 12, 'value': 989.48999999999967}, {'source': 5, 'target': 6, 'value': 447.90000000000003}, {'source': 7, 'target': 1, 'value': 825.63000000000056}, {'source': 7, 'target': 10, 'value': 10133.61999999997}, {'source': 7, 'target': 3, 'value': 801.6399999999976}, {'source': 7, 'target': 12, 'value': 58795.540000000241}, {'source': 7, 'target': 6, 'value': 22902.44999999987}, {'source': 8, 'target': 1, 'value': 199.29000000000005}, {'source': 8, 'target': 10, 'value': 2063.2800000000002}, {'source': 8, 'target': 3, 'value': 183.67999999999989}, {'source': 8, 'target': 12, 'value': 13546.140000000019}, {'source': 8, 'target': 6, 'value': 5174.9000000000033}, {'source': 9, 'target': 1, 'value': 180.31000000000003}, {'source': 9, 'target': 10, 'value': 1940.3500000000008}, {'source': 9, 'target': 3, 'value': 183.05999999999989}, {'source': 9, 'target': 12, 'value': 11221.690000000015}, {'source': 9, 'target': 6, 'value': 4970.0700000000043}, {'source': 11, 'target': 1, 'value': 37.960000000000001}, {'source': 11, 'target': 10, 'value': 805.09000000000026}, {'source': 11, 'target': 3, 'value': 45.980000000000011}, {'source': 11, 'target': 12, 'value': 2791.4099999999989}, {'source': 11, 'target': 6, 'value': 1154.4299999999998}], 'multigraph': False}\n"
     ]
    }
   ],
   "source": [
    "from networkx.readwrite import json_graph\n",
    "data = json_graph.node_link_data(H)\n",
    "with open('aircraft_grouped.json', 'w') as fout:\n",
    "    print(data)\n",
    "    fout.write(json.dumps(data, indent=2))"
   ]
  },
  {
   "cell_type": "code",
   "execution_count": 66,
   "metadata": {
    "collapsed": false
   },
   "outputs": [
    {
     "data": {
      "text/plain": [
       "{'directed': True,\n",
       " 'graph': {},\n",
       " 'links': [{'source': 0, 'target': 41, 'value': 8820.0},\n",
       "  {'source': 1, 'target': 42, 'value': 8820.0},\n",
       "  {'source': 1, 'target': 44, 'value': 8820.0},\n",
       "  {'source': 2, 'target': 42, 'value': 8820.0},\n",
       "  {'source': 2, 'target': 44, 'value': 8820.0},\n",
       "  {'source': 3, 'target': 42, 'value': 8820.0},\n",
       "  {'source': 3, 'target': 44, 'value': 8820.0},\n",
       "  {'source': 4, 'target': 85, 'value': 8820.0},\n",
       "  {'source': 5, 'target': 42, 'value': 8820.0},\n",
       "  {'source': 5, 'target': 44, 'value': 8820.0},\n",
       "  {'source': 6, 'target': 42, 'value': 8820.0},\n",
       "  {'source': 6, 'target': 44, 'value': 8820.0},\n",
       "  {'source': 7, 'target': 42, 'value': 8820.0},\n",
       "  {'source': 7, 'target': 44, 'value': 8820.0},\n",
       "  {'source': 8, 'target': 83, 'value': 8820.0},\n",
       "  {'source': 9, 'target': 84, 'value': 8820.0},\n",
       "  {'source': 20, 'target': 48, 'value': 8820.0},\n",
       "  {'source': 21, 'target': 48, 'value': 8820.0},\n",
       "  {'source': 22, 'target': 40, 'value': 8820.0},\n",
       "  {'source': 22, 'target': 41, 'value': 8820.0},\n",
       "  {'source': 22, 'target': 48, 'value': 8820.0},\n",
       "  {'source': 23, 'target': 45, 'value': 8820.0},\n",
       "  {'source': 24, 'target': 43, 'value': 8820.0},\n",
       "  {'source': 25, 'target': 43, 'value': 8820.0},\n",
       "  {'source': 25, 'target': 45, 'value': 8820.0},\n",
       "  {'source': 26, 'target': 47, 'value': 8820.0},\n",
       "  {'source': 27, 'target': 46, 'value': 8820.0},\n",
       "  {'source': 27, 'target': 47, 'value': 8820.0},\n",
       "  {'source': 28, 'target': 46, 'value': 8820.0},\n",
       "  {'source': 29, 'target': 40, 'value': 8820.0},\n",
       "  {'source': 29, 'target': 41, 'value': 8820.0},\n",
       "  {'source': 29, 'target': 43, 'value': 8820.0},\n",
       "  {'source': 29, 'target': 45, 'value': 8820.0},\n",
       "  {'source': 29, 'target': 46, 'value': 8820.0},\n",
       "  {'source': 29, 'target': 47, 'value': 8820.0},\n",
       "  {'source': 29, 'target': 48, 'value': 8820.0},\n",
       "  {'source': 40, 'target': 14, 'value': 8820.0},\n",
       "  {'source': 40, 'target': 58, 'value': 8820.0},\n",
       "  {'source': 40, 'target': 59, 'value': 8820.0},\n",
       "  {'source': 40, 'target': 60, 'value': 8820.0},\n",
       "  {'source': 40, 'target': 61, 'value': 8820.0},\n",
       "  {'source': 40, 'target': 62, 'value': 8820.0},\n",
       "  {'source': 40, 'target': 63, 'value': 8820.0},\n",
       "  {'source': 40, 'target': 64, 'value': 8820.0},\n",
       "  {'source': 40, 'target': 65, 'value': 8820.0},\n",
       "  {'source': 40, 'target': 66, 'value': 8820.0},\n",
       "  {'source': 40, 'target': 67, 'value': 8820.0},\n",
       "  {'source': 41, 'target': 10, 'value': 8820.0},\n",
       "  {'source': 41, 'target': 11, 'value': 8820.0},\n",
       "  {'source': 41, 'target': 12, 'value': 8820.0},\n",
       "  {'source': 41, 'target': 13, 'value': 8820.0},\n",
       "  {'source': 41, 'target': 15, 'value': 8820.0},\n",
       "  {'source': 41, 'target': 16, 'value': 8820.0},\n",
       "  {'source': 41, 'target': 17, 'value': 8820.0},\n",
       "  {'source': 41, 'target': 18, 'value': 8820.0},\n",
       "  {'source': 41, 'target': 19, 'value': 8820.0},\n",
       "  {'source': 41, 'target': 86, 'value': 8820.0},\n",
       "  {'source': 41, 'target': 87, 'value': 8820.0},\n",
       "  {'source': 42, 'target': 81, 'value': 8820.0},\n",
       "  {'source': 43, 'target': 51, 'value': 8820.0},\n",
       "  {'source': 43, 'target': 52, 'value': 8820.0},\n",
       "  {'source': 43, 'target': 53, 'value': 8820.0},\n",
       "  {'source': 43, 'target': 54, 'value': 8820.0},\n",
       "  {'source': 43, 'target': 55, 'value': 8820.0},\n",
       "  {'source': 44, 'target': 82, 'value': 8820.0},\n",
       "  {'source': 45, 'target': 70, 'value': 8820.0},\n",
       "  {'source': 45, 'target': 71, 'value': 8820.0},\n",
       "  {'source': 45, 'target': 75, 'value': 8820.0},\n",
       "  {'source': 45, 'target': 76, 'value': 8820.0},\n",
       "  {'source': 45, 'target': 77, 'value': 8820.0},\n",
       "  {'source': 46, 'target': 72, 'value': 8820.0},\n",
       "  {'source': 46, 'target': 73, 'value': 8820.0},\n",
       "  {'source': 46, 'target': 68, 'value': 8820.0},\n",
       "  {'source': 46, 'target': 69, 'value': 8820.0},\n",
       "  {'source': 47, 'target': 49, 'value': 8820.0},\n",
       "  {'source': 47, 'target': 50, 'value': 8820.0},\n",
       "  {'source': 47, 'target': 56, 'value': 8820.0},\n",
       "  {'source': 47, 'target': 57, 'value': 8820.0},\n",
       "  {'source': 48, 'target': 30, 'value': 8820.0},\n",
       "  {'source': 48, 'target': 31, 'value': 8820.0},\n",
       "  {'source': 48, 'target': 32, 'value': 8820.0},\n",
       "  {'source': 48, 'target': 33, 'value': 8820.0},\n",
       "  {'source': 48, 'target': 34, 'value': 8820.0},\n",
       "  {'source': 48, 'target': 35, 'value': 8820.0},\n",
       "  {'source': 48, 'target': 36, 'value': 8820.0},\n",
       "  {'source': 48, 'target': 37, 'value': 8820.0},\n",
       "  {'source': 48, 'target': 38, 'value': 8820.0},\n",
       "  {'source': 48, 'target': 39, 'value': 8820.0},\n",
       "  {'source': 48, 'target': 78, 'value': 8820.0},\n",
       "  {'source': 74, 'target': 40, 'value': 8820.0},\n",
       "  {'source': 79, 'target': 40, 'value': 8820.0},\n",
       "  {'source': 80, 'target': 41, 'value': 8820.0},\n",
       "  {'source': 81, 'target': 41, 'value': 8820.0},\n",
       "  {'source': 82, 'target': 40, 'value': 8820.0},\n",
       "  {'source': 82, 'target': 43, 'value': 8820.0},\n",
       "  {'source': 82, 'target': 45, 'value': 8820.0},\n",
       "  {'source': 82, 'target': 46, 'value': 8820.0},\n",
       "  {'source': 82, 'target': 47, 'value': 8820.0},\n",
       "  {'source': 82, 'target': 48, 'value': 8820.0},\n",
       "  {'source': 83, 'target': 43, 'value': 8820.0},\n",
       "  {'source': 83, 'target': 47, 'value': 8820.0},\n",
       "  {'source': 83, 'target': 48, 'value': 8820.0},\n",
       "  {'source': 84, 'target': 40, 'value': 8820.0},\n",
       "  {'source': 84, 'target': 41, 'value': 8820.0},\n",
       "  {'source': 84, 'target': 45, 'value': 8820.0},\n",
       "  {'source': 84, 'target': 46, 'value': 8820.0},\n",
       "  {'source': 85, 'target': 41, 'value': 8820.0}],\n",
       " 'multigraph': False,\n",
       " 'nodes': [{'id': u'Part_0022'},\n",
       "  {'id': u'Part_0003'},\n",
       "  {'id': u'Part_0002'},\n",
       "  {'id': u'Part_0001'},\n",
       "  {'id': u'Part_0007'},\n",
       "  {'id': u'Part_0006'},\n",
       "  {'id': u'Part_0005'},\n",
       "  {'id': u'Part_0004'},\n",
       "  {'id': u'Part_0009'},\n",
       "  {'id': u'Part_0008'},\n",
       "  {'id': u'Dist_0048'},\n",
       "  {'id': u'Dist_0049'},\n",
       "  {'id': u'Dist_0042'},\n",
       "  {'id': u'Dist_0043'},\n",
       "  {'id': u'Dist_0040'},\n",
       "  {'id': u'Dist_0041'},\n",
       "  {'id': u'Dist_0046'},\n",
       "  {'id': u'Dist_0047'},\n",
       "  {'id': u'Dist_0044'},\n",
       "  {'id': u'Dist_0045'},\n",
       "  {'id': u'Part_0014'},\n",
       "  {'id': u'Part_0015'},\n",
       "  {'id': u'Part_0016'},\n",
       "  {'id': u'Part_0017'},\n",
       "  {'id': u'Part_0010'},\n",
       "  {'id': u'Part_0011'},\n",
       "  {'id': u'Part_0012'},\n",
       "  {'id': u'Part_0013'},\n",
       "  {'id': u'Part_0018'},\n",
       "  {'id': u'Part_0019'},\n",
       "  {'id': u'Dist_0015'},\n",
       "  {'id': u'Dist_0014'},\n",
       "  {'id': u'Dist_0017'},\n",
       "  {'id': u'Dist_0016'},\n",
       "  {'id': u'Dist_0011'},\n",
       "  {'id': u'Dist_0010'},\n",
       "  {'id': u'Dist_0013'},\n",
       "  {'id': u'Dist_0012'},\n",
       "  {'id': u'Dist_0019'},\n",
       "  {'id': u'Dist_0018'},\n",
       "  {'id': u'Manuf_0008'},\n",
       "  {'id': u'Manuf_0009'},\n",
       "  {'id': u'Manuf_0002'},\n",
       "  {'id': u'Manuf_0003'},\n",
       "  {'id': u'Manuf_0001'},\n",
       "  {'id': u'Manuf_0006'},\n",
       "  {'id': u'Manuf_0007'},\n",
       "  {'id': u'Manuf_0004'},\n",
       "  {'id': u'Manuf_0005'},\n",
       "  {'id': u'Dist_0006'},\n",
       "  {'id': u'Dist_0007'},\n",
       "  {'id': u'Dist_0004'},\n",
       "  {'id': u'Dist_0005'},\n",
       "  {'id': u'Dist_0002'},\n",
       "  {'id': u'Dist_0003'},\n",
       "  {'id': u'Dist_0001'},\n",
       "  {'id': u'Dist_0008'},\n",
       "  {'id': u'Dist_0009'},\n",
       "  {'id': u'Dist_0039'},\n",
       "  {'id': u'Dist_0038'},\n",
       "  {'id': u'Dist_0033'},\n",
       "  {'id': u'Dist_0032'},\n",
       "  {'id': u'Dist_0031'},\n",
       "  {'id': u'Dist_0030'},\n",
       "  {'id': u'Dist_0037'},\n",
       "  {'id': u'Dist_0036'},\n",
       "  {'id': u'Dist_0035'},\n",
       "  {'id': u'Dist_0034'},\n",
       "  {'id': u'Dist_0028'},\n",
       "  {'id': u'Dist_0029'},\n",
       "  {'id': u'Dist_0024'},\n",
       "  {'id': u'Dist_0025'},\n",
       "  {'id': u'Dist_0026'},\n",
       "  {'id': u'Dist_0027'},\n",
       "  {'id': u'Part_0021'},\n",
       "  {'id': u'Dist_0021'},\n",
       "  {'id': u'Dist_0022'},\n",
       "  {'id': u'Dist_0023'},\n",
       "  {'id': u'Dist_0020'},\n",
       "  {'id': u'Part_0020'},\n",
       "  {'id': u'Part_0023'},\n",
       "  {'id': u'Trans_0005'},\n",
       "  {'id': u'Trans_0004'},\n",
       "  {'id': u'Trans_0003'},\n",
       "  {'id': u'Trans_0002'},\n",
       "  {'id': u'Trans_0001'},\n",
       "  {'id': u'Dist_0051'},\n",
       "  {'id': u'Dist_0050'}]}"
      ]
     },
     "execution_count": 66,
     "metadata": {},
     "output_type": "execute_result"
    }
   ],
   "source": [
    "import json\n",
    "data = {}\n",
    "data['nodes'] = G.nodes()\n",
    "data['edges'] = "
   ]
  },
  {
   "cell_type": "code",
   "execution_count": null,
   "metadata": {
    "collapsed": true
   },
   "outputs": [],
   "source": []
  }
 ],
 "metadata": {
  "kernelspec": {
   "display_name": "Python 2",
   "language": "python",
   "name": "python2"
  },
  "language_info": {
   "codemirror_mode": {
    "name": "ipython",
    "version": 2
   },
   "file_extension": ".py",
   "mimetype": "text/x-python",
   "name": "python",
   "nbconvert_exporter": "python",
   "pygments_lexer": "ipython2",
   "version": "2.7.11"
  }
 },
 "nbformat": 4,
 "nbformat_minor": 0
}
